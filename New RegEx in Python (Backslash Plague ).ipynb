{
 "cells": [
  {
   "cell_type": "code",
   "execution_count": 1,
   "metadata": {},
   "outputs": [],
   "source": [
    "import re"
   ]
  },
  {
   "cell_type": "code",
   "execution_count": 2,
   "metadata": {},
   "outputs": [],
   "source": [
    "txt = \"\"\"\n",
    "C:\\Windows\n",
    "C:\\Python\n",
    "C:\\Windows\\System32\n",
    "\"\"\""
   ]
  },
  {
   "cell_type": "code",
   "execution_count": 4,
   "metadata": {},
   "outputs": [
    {
     "name": "stdout",
     "output_type": "stream",
     "text": [
      "No match found\n"
     ]
    }
   ],
   "source": [
    "pattern = re.compile(\"C:\\Windows\\System32\")\n",
    "match = pattern.search(txt)\n",
    "\n",
    "\n",
    "if match == None :\n",
    "    print (\"No match found\")\n",
    "else:\n",
    "    print (\"match found\")\n",
    "  \n",
    "# Why ?\n",
    "\n",
    "# \\ is the meta chr and we want to use it as a literal"
   ]
  },
  {
   "cell_type": "code",
   "execution_count": 6,
   "metadata": {},
   "outputs": [
    {
     "name": "stdout",
     "output_type": "stream",
     "text": [
      "No match found\n"
     ]
    }
   ],
   "source": [
    "pattern1 = re.compile(\"C:\\\\Windows\\\\System32\")\n",
    "match1 = pattern1.search(txt)\n",
    "\n",
    "\n",
    "if match1 == None :\n",
    "    print (\"No match found\")\n",
    "else:\n",
    "    print (\"match found\")\n",
    "  \n",
    "\n",
    "# Why ?\n"
   ]
  },
  {
   "cell_type": "code",
   "execution_count": 7,
   "metadata": {},
   "outputs": [
    {
     "name": "stdout",
     "output_type": "stream",
     "text": [
      "C:\\Windows\\System32\n"
     ]
    }
   ],
   "source": [
    "print (\"C:\\\\Windows\\\\System32\")\n",
    "#Python interpreter will consider \\\\ as \\"
   ]
  },
  {
   "cell_type": "code",
   "execution_count": 8,
   "metadata": {},
   "outputs": [
    {
     "name": "stdout",
     "output_type": "stream",
     "text": [
      "hello\n",
      "Avinash\n"
     ]
    }
   ],
   "source": [
    "print (\"hello\\nAvinash\")"
   ]
  },
  {
   "cell_type": "code",
   "execution_count": 9,
   "metadata": {},
   "outputs": [
    {
     "name": "stdout",
     "output_type": "stream",
     "text": [
      "C:\\\\Windows\\\\System32\n"
     ]
    }
   ],
   "source": [
    "print (\"C:\\\\\\\\Windows\\\\\\\\System32\")"
   ]
  },
  {
   "cell_type": "code",
   "execution_count": 10,
   "metadata": {},
   "outputs": [
    {
     "name": "stdout",
     "output_type": "stream",
     "text": [
      "match found\n"
     ]
    }
   ],
   "source": [
    "# We have to do double escaping\n",
    "\n",
    "pattern2 = re.compile(\"C:\\\\\\\\Windows\\\\\\\\System32\")\n",
    "match2 = pattern2.search(txt)\n",
    "\n",
    "\n",
    "if match2 == None :\n",
    "    print (\"No match found\")\n",
    "else:\n",
    "    print (\"match found\")\n",
    "  \n",
    "\n",
    "# This is called Backslash plague"
   ]
  },
  {
   "cell_type": "code",
   "execution_count": 16,
   "metadata": {},
   "outputs": [
    {
     "name": "stdout",
     "output_type": "stream",
     "text": [
      "saddasdd\n"
     ]
    }
   ],
   "source": [
    "# use Raw string\n",
    "\n",
    "print (r\"saddasdd\")"
   ]
  },
  {
   "cell_type": "code",
   "execution_count": 12,
   "metadata": {},
   "outputs": [
    {
     "name": "stdout",
     "output_type": "stream",
     "text": [
      "hello\\nworld\n"
     ]
    }
   ],
   "source": [
    "print (r\"hello\\nworld\")"
   ]
  },
  {
   "cell_type": "code",
   "execution_count": 13,
   "metadata": {},
   "outputs": [
    {
     "name": "stdout",
     "output_type": "stream",
     "text": [
      "match found\n"
     ]
    }
   ],
   "source": [
    "pattern3 = re.compile(r\"C:\\\\Windows\\\\System32\")\n",
    "match3 = pattern3.search(txt)\n",
    "\n",
    "\n",
    "if match2 == None :\n",
    "    print (\"No match found\")\n",
    "else:\n",
    "    print (\"match found\")"
   ]
  },
  {
   "cell_type": "code",
   "execution_count": 14,
   "metadata": {},
   "outputs": [],
   "source": [
    "# OR"
   ]
  },
  {
   "cell_type": "code",
   "execution_count": 23,
   "metadata": {},
   "outputs": [
    {
     "data": {
      "text/plain": [
       "'C\\\\:\\\\\\\\Windows\\\\\\\\System32'"
      ]
     },
     "execution_count": 23,
     "metadata": {},
     "output_type": "execute_result"
    }
   ],
   "source": [
    "re.escape(\"C:\\Windows\\System32\")"
   ]
  },
  {
   "cell_type": "code",
   "execution_count": 15,
   "metadata": {},
   "outputs": [
    {
     "name": "stdout",
     "output_type": "stream",
     "text": [
      "match found\n"
     ]
    }
   ],
   "source": [
    "match4 = re.search(re.escape(\"C:\\Windows\\System32\"),txt)\n",
    "\n",
    "if match4 == None :\n",
    "    print (\"No match found\")\n",
    "else:\n",
    "    print (\"match found\")"
   ]
  },
  {
   "cell_type": "code",
   "execution_count": null,
   "metadata": {},
   "outputs": [],
   "source": []
  },
  {
   "cell_type": "code",
   "execution_count": null,
   "metadata": {},
   "outputs": [],
   "source": []
  },
  {
   "cell_type": "code",
   "execution_count": null,
   "metadata": {},
   "outputs": [],
   "source": []
  }
 ],
 "metadata": {
  "kernelspec": {
   "display_name": "Python 3",
   "language": "python",
   "name": "python3"
  },
  "language_info": {
   "codemirror_mode": {
    "name": "ipython",
    "version": 3
   },
   "file_extension": ".py",
   "mimetype": "text/x-python",
   "name": "python",
   "nbconvert_exporter": "python",
   "pygments_lexer": "ipython3",
   "version": "3.8.3"
  }
 },
 "nbformat": 4,
 "nbformat_minor": 2
}
